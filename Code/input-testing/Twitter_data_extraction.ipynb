{
  "nbformat": 4,
  "nbformat_minor": 0,
  "metadata": {
    "colab": {
      "name": "Twitter data extraction.ipynb",
      "provenance": [],
      "collapsed_sections": []
    },
    "kernelspec": {
      "name": "python3",
      "display_name": "Python 3"
    },
    "language_info": {
      "name": "python"
    }
  },
  "cells": [
    {
      "cell_type": "code",
      "metadata": {
        "colab": {
          "base_uri": "https://localhost:8080/"
        },
        "id": "lFd1KInaQz-a",
        "outputId": "5bb9dc07-6391-447f-c00f-6899cde9b981"
      },
      "source": [
        "!pip install tweepy"
      ],
      "execution_count": null,
      "outputs": [
        {
          "output_type": "stream",
          "text": [
            "Requirement already satisfied: tweepy in /usr/local/lib/python3.7/dist-packages (3.10.0)\n",
            "Requirement already satisfied: six>=1.10.0 in /usr/local/lib/python3.7/dist-packages (from tweepy) (1.15.0)\n",
            "Requirement already satisfied: requests-oauthlib>=0.7.0 in /usr/local/lib/python3.7/dist-packages (from tweepy) (1.3.0)\n",
            "Requirement already satisfied: requests[socks]>=2.11.1 in /usr/local/lib/python3.7/dist-packages (from tweepy) (2.23.0)\n",
            "Requirement already satisfied: oauthlib>=3.0.0 in /usr/local/lib/python3.7/dist-packages (from requests-oauthlib>=0.7.0->tweepy) (3.1.0)\n",
            "Requirement already satisfied: idna<3,>=2.5 in /usr/local/lib/python3.7/dist-packages (from requests[socks]>=2.11.1->tweepy) (2.10)\n",
            "Requirement already satisfied: chardet<4,>=3.0.2 in /usr/local/lib/python3.7/dist-packages (from requests[socks]>=2.11.1->tweepy) (3.0.4)\n",
            "Requirement already satisfied: urllib3!=1.25.0,!=1.25.1,<1.26,>=1.21.1 in /usr/local/lib/python3.7/dist-packages (from requests[socks]>=2.11.1->tweepy) (1.24.3)\n",
            "Requirement already satisfied: certifi>=2017.4.17 in /usr/local/lib/python3.7/dist-packages (from requests[socks]>=2.11.1->tweepy) (2020.12.5)\n",
            "Requirement already satisfied: PySocks!=1.5.7,>=1.5.6; extra == \"socks\" in /usr/local/lib/python3.7/dist-packages (from requests[socks]>=2.11.1->tweepy) (1.7.1)\n"
          ],
          "name": "stdout"
        }
      ]
    },
    {
      "cell_type": "code",
      "metadata": {
        "id": "Zn4tpK9hYnIi"
      },
      "source": [
        ""
      ],
      "execution_count": null,
      "outputs": []
    },
    {
      "cell_type": "code",
      "metadata": {
        "id": "qgkxIILkRjpU"
      },
      "source": [
        "import tweepy\n",
        "import pandas as pd\n",
        "import time\n",
        "\n",
        "consumer_key = 'bq4HeWyXU6lrSW3AzFJXVGiQf'#your consumer key\n",
        "consumer_secret = 'G49dN8h2Qde5dnp0qeWTWJytn1p1daWjf6xILS7aAdMmct3Bim' #your consumer secret key\n",
        "access_token = '137288204-DFbcrlQnYuOLWxlwYc9jVfPzFYRqFqAtKqOXHn59' #your access token\n",
        "access_token_secret = 'lETxVHKFjVu1GHpiCHLrBOsifQb1CNoZRpKhDD5woAcKr' #your secret access token\n",
        "\n",
        "\n",
        "auth = tweepy.OAuthHandler(consumer_key, consumer_secret)\n",
        "auth.set_access_token(access_token, access_token_secret)\n",
        "api = tweepy.API(auth, wait_on_rate_limit=True)\n",
        "\n",
        "tweets = []\n",
        "t = None\n",
        "\n",
        "def query_to_csv(text_query, count):\n",
        "    try:\n",
        "        tweets = tweepy.Cursor(api.search, q=text_query,result_type=\"recent\",tweet_mode = \"extended\").items(count)\n",
        "        tweets_list = [[tweet._json[\"id\"],tweet._json['created_at'],tweet._json[\"entities\"][\"urls\"]] for tweet in tweets]\n",
        "        #print(tweets_list)\n",
        "\n",
        "        # tweet information\n",
        "        tweets_df = pd.DataFrame(tweets_list)\n",
        "        tweets_df.to_csv('{}-tweets.csv'.format(text_query), sep=',', index=False)\n",
        "        return tweets_df\n",
        "\n",
        "    except BaseException as e:\n",
        "        print('failed on_status,', str(e))\n",
        "        time.sleep(3)\n",
        "\n",
        "\n",
        "# X is number of tweets to be retrieved\n",
        "text_query = '$AMZN'\n",
        "#text_query = '$AAPL'\n",
        "count = 1000\n",
        "\n",
        "t_df = query_to_csv(text_query, count)"
      ],
      "execution_count": null,
      "outputs": []
    },
    {
      "cell_type": "code",
      "metadata": {
        "id": "CjjGicMgCAMG"
      },
      "source": [
        "# tweets_df"
      ],
      "execution_count": null,
      "outputs": []
    },
    {
      "cell_type": "code",
      "metadata": {
        "id": "0EqK7bMQjKiN",
        "colab": {
          "base_uri": "https://localhost:8080/",
          "height": 606
        },
        "outputId": "41ef3b8c-62c0-48c8-c6a8-98e2c2b6ee50"
      },
      "source": [
        "print(count)\n",
        "t_df = t_df.iloc[0:count]\n",
        "t_df"
      ],
      "execution_count": null,
      "outputs": [
        {
          "output_type": "stream",
          "text": [
            "1000\n"
          ],
          "name": "stdout"
        },
        {
          "output_type": "execute_result",
          "data": {
            "text/html": [
              "<div>\n",
              "<style scoped>\n",
              "    .dataframe tbody tr th:only-of-type {\n",
              "        vertical-align: middle;\n",
              "    }\n",
              "\n",
              "    .dataframe tbody tr th {\n",
              "        vertical-align: top;\n",
              "    }\n",
              "\n",
              "    .dataframe thead th {\n",
              "        text-align: right;\n",
              "    }\n",
              "</style>\n",
              "<table border=\"1\" class=\"dataframe\">\n",
              "  <thead>\n",
              "    <tr style=\"text-align: right;\">\n",
              "      <th></th>\n",
              "      <th>0</th>\n",
              "      <th>1</th>\n",
              "      <th>2</th>\n",
              "    </tr>\n",
              "  </thead>\n",
              "  <tbody>\n",
              "    <tr>\n",
              "      <th>0</th>\n",
              "      <td>1379201271157026819</td>\n",
              "      <td>Mon Apr 05 22:36:22 +0000 2021</td>\n",
              "      <td>[]</td>\n",
              "    </tr>\n",
              "    <tr>\n",
              "      <th>1</th>\n",
              "      <td>1379201270297161730</td>\n",
              "      <td>Mon Apr 05 22:36:21 +0000 2021</td>\n",
              "      <td>[]</td>\n",
              "    </tr>\n",
              "    <tr>\n",
              "      <th>2</th>\n",
              "      <td>1379201183693352968</td>\n",
              "      <td>Mon Apr 05 22:36:01 +0000 2021</td>\n",
              "      <td>[]</td>\n",
              "    </tr>\n",
              "    <tr>\n",
              "      <th>3</th>\n",
              "      <td>1379201142605893633</td>\n",
              "      <td>Mon Apr 05 22:35:51 +0000 2021</td>\n",
              "      <td>[]</td>\n",
              "    </tr>\n",
              "    <tr>\n",
              "      <th>4</th>\n",
              "      <td>1379201023265234946</td>\n",
              "      <td>Mon Apr 05 22:35:22 +0000 2021</td>\n",
              "      <td>[]</td>\n",
              "    </tr>\n",
              "    <tr>\n",
              "      <th>...</th>\n",
              "      <td>...</td>\n",
              "      <td>...</td>\n",
              "      <td>...</td>\n",
              "    </tr>\n",
              "    <tr>\n",
              "      <th>995</th>\n",
              "      <td>1379104568781471746</td>\n",
              "      <td>Mon Apr 05 16:12:06 +0000 2021</td>\n",
              "      <td>[{'url': 'https://t.co/yY2aReZn2U', 'expanded_...</td>\n",
              "    </tr>\n",
              "    <tr>\n",
              "      <th>996</th>\n",
              "      <td>1379104361847136259</td>\n",
              "      <td>Mon Apr 05 16:11:17 +0000 2021</td>\n",
              "      <td>[]</td>\n",
              "    </tr>\n",
              "    <tr>\n",
              "      <th>997</th>\n",
              "      <td>1379104249120878597</td>\n",
              "      <td>Mon Apr 05 16:10:50 +0000 2021</td>\n",
              "      <td>[]</td>\n",
              "    </tr>\n",
              "    <tr>\n",
              "      <th>998</th>\n",
              "      <td>1379104096142163975</td>\n",
              "      <td>Mon Apr 05 16:10:13 +0000 2021</td>\n",
              "      <td>[]</td>\n",
              "    </tr>\n",
              "    <tr>\n",
              "      <th>999</th>\n",
              "      <td>1379104072830234638</td>\n",
              "      <td>Mon Apr 05 16:10:08 +0000 2021</td>\n",
              "      <td>[]</td>\n",
              "    </tr>\n",
              "  </tbody>\n",
              "</table>\n",
              "<p>1000 rows × 3 columns</p>\n",
              "</div>"
            ],
            "text/plain": [
              "                       0  ...                                                  2\n",
              "0    1379201271157026819  ...                                                 []\n",
              "1    1379201270297161730  ...                                                 []\n",
              "2    1379201183693352968  ...                                                 []\n",
              "3    1379201142605893633  ...                                                 []\n",
              "4    1379201023265234946  ...                                                 []\n",
              "..                   ...  ...                                                ...\n",
              "995  1379104568781471746  ...  [{'url': 'https://t.co/yY2aReZn2U', 'expanded_...\n",
              "996  1379104361847136259  ...                                                 []\n",
              "997  1379104249120878597  ...                                                 []\n",
              "998  1379104096142163975  ...                                                 []\n",
              "999  1379104072830234638  ...                                                 []\n",
              "\n",
              "[1000 rows x 3 columns]"
            ]
          },
          "metadata": {
            "tags": []
          },
          "execution_count": 128
        }
      ]
    },
    {
      "cell_type": "code",
      "metadata": {
        "id": "uZDJDCCCkBd3"
      },
      "source": [
        "Tweets = pd.DataFrame(columns=[0,1,2])\n",
        "\n",
        "for index, row in t_df.iterrows():\n",
        "  #print(len(row[2])==0)\n",
        "  if len(row[2]) and ('expanded_url' in row[2][0]):\n",
        "    Tweets.loc[len(Tweets.index)] = [row[0],row[1],row[2][0]['expanded_url']]\n",
        "\n",
        "  # Tweets.loc[len(Tweets.index)] = [] \n",
        "Tweets.to_csv(\"$AMZN-tweets.csv\")\n",
        "#Tweets.to_csv(\"$AAPL-tweets.csv\")"
      ],
      "execution_count": null,
      "outputs": []
    },
    {
      "cell_type": "markdown",
      "metadata": {
        "id": "jX5hSzgyVvaP"
      },
      "source": [
        ""
      ]
    },
    {
      "cell_type": "code",
      "metadata": {
        "colab": {
          "base_uri": "https://localhost:8080/"
        },
        "id": "8qCcl1MjTwKL",
        "outputId": "e2252b21-9a38-4095-fecc-38934b43a825"
      },
      "source": [
        "# import tweepy\n",
        "\n",
        "# consumer_key = 'UycE7Key5ZqeatRvcuNgrDko8'\n",
        "# consumer_secret = 'CvuWOlsBuuuqFZNhD1JiwHflLjEFudZmcMeJUbBbp49zZf3VPb'\n",
        "# access_token = '137288204-932xajd7ZpiehJFKUBe37slkkmj7p6Qyd8uQ8ZXF'\n",
        "# access_token_secret = 'SaR9Z82sTEUq3fk15gNnxmRWYIDJjdHYBrRj9mPPoMboh'\n",
        "\n",
        "# auth = tweepy.OAuthHandler(consumer_key, consumer_secret)\n",
        "# auth.set_access_token(access_token, access_token_secret)\n",
        "# api = tweepy.API(auth)\n",
        "\n",
        "# status = \"Testing!\"\n",
        "# api.update_status(status=status)"
      ],
      "execution_count": null,
      "outputs": [
        {
          "output_type": "execute_result",
          "data": {
            "text/plain": [
              "Status(_api=<tweepy.api.API object at 0x7f22829d6750>, _json={'created_at': 'Thu Apr 01 21:23:02 +0000 2021', 'id': 1377733267839803393, 'id_str': '1377733267839803393', 'text': 'Testing!', 'truncated': False, 'entities': {'hashtags': [], 'symbols': [], 'user_mentions': [], 'urls': []}, 'source': '<a href=\"https://sites.google.com/a/asu.edu/twitter-network-analysis/\" rel=\"nofollow\">SMM - 472 - Project 1 </a>', 'in_reply_to_status_id': None, 'in_reply_to_status_id_str': None, 'in_reply_to_user_id': None, 'in_reply_to_user_id_str': None, 'in_reply_to_screen_name': None, 'user': {'id': 137288204, 'id_str': '137288204', 'name': 'Nagarjuna Battula', 'screen_name': 'nagbattula8', 'location': '', 'description': '', 'url': None, 'entities': {'description': {'urls': []}}, 'protected': False, 'followers_count': 16, 'friends_count': 160, 'listed_count': 1, 'created_at': 'Mon Apr 26 10:21:47 +0000 2010', 'favourites_count': 12, 'utc_offset': None, 'time_zone': None, 'geo_enabled': False, 'verified': False, 'statuses_count': 10, 'lang': None, 'contributors_enabled': False, 'is_translator': False, 'is_translation_enabled': False, 'profile_background_color': '022330', 'profile_background_image_url': 'http://abs.twimg.com/images/themes/theme15/bg.png', 'profile_background_image_url_https': 'https://abs.twimg.com/images/themes/theme15/bg.png', 'profile_background_tile': False, 'profile_image_url': 'http://pbs.twimg.com/profile_images/838786422412804096/Xfa1t4gL_normal.jpg', 'profile_image_url_https': 'https://pbs.twimg.com/profile_images/838786422412804096/Xfa1t4gL_normal.jpg', 'profile_link_color': '0084B4', 'profile_sidebar_border_color': 'A8C7F7', 'profile_sidebar_fill_color': 'C0DFEC', 'profile_text_color': '333333', 'profile_use_background_image': True, 'has_extended_profile': False, 'default_profile': False, 'default_profile_image': False, 'following': False, 'follow_request_sent': False, 'notifications': False, 'translator_type': 'none'}, 'geo': None, 'coordinates': None, 'place': None, 'contributors': None, 'is_quote_status': False, 'retweet_count': 0, 'favorite_count': 0, 'favorited': False, 'retweeted': False, 'lang': 'en'}, created_at=datetime.datetime(2021, 4, 1, 21, 23, 2), id=1377733267839803393, id_str='1377733267839803393', text='Testing!', truncated=False, entities={'hashtags': [], 'symbols': [], 'user_mentions': [], 'urls': []}, source='SMM - 472 - Project 1 ', source_url='https://sites.google.com/a/asu.edu/twitter-network-analysis/', in_reply_to_status_id=None, in_reply_to_status_id_str=None, in_reply_to_user_id=None, in_reply_to_user_id_str=None, in_reply_to_screen_name=None, author=User(_api=<tweepy.api.API object at 0x7f22829d6750>, _json={'id': 137288204, 'id_str': '137288204', 'name': 'Nagarjuna Battula', 'screen_name': 'nagbattula8', 'location': '', 'description': '', 'url': None, 'entities': {'description': {'urls': []}}, 'protected': False, 'followers_count': 16, 'friends_count': 160, 'listed_count': 1, 'created_at': 'Mon Apr 26 10:21:47 +0000 2010', 'favourites_count': 12, 'utc_offset': None, 'time_zone': None, 'geo_enabled': False, 'verified': False, 'statuses_count': 10, 'lang': None, 'contributors_enabled': False, 'is_translator': False, 'is_translation_enabled': False, 'profile_background_color': '022330', 'profile_background_image_url': 'http://abs.twimg.com/images/themes/theme15/bg.png', 'profile_background_image_url_https': 'https://abs.twimg.com/images/themes/theme15/bg.png', 'profile_background_tile': False, 'profile_image_url': 'http://pbs.twimg.com/profile_images/838786422412804096/Xfa1t4gL_normal.jpg', 'profile_image_url_https': 'https://pbs.twimg.com/profile_images/838786422412804096/Xfa1t4gL_normal.jpg', 'profile_link_color': '0084B4', 'profile_sidebar_border_color': 'A8C7F7', 'profile_sidebar_fill_color': 'C0DFEC', 'profile_text_color': '333333', 'profile_use_background_image': True, 'has_extended_profile': False, 'default_profile': False, 'default_profile_image': False, 'following': False, 'follow_request_sent': False, 'notifications': False, 'translator_type': 'none'}, id=137288204, id_str='137288204', name='Nagarjuna Battula', screen_name='nagbattula8', location='', description='', url=None, entities={'description': {'urls': []}}, protected=False, followers_count=16, friends_count=160, listed_count=1, created_at=datetime.datetime(2010, 4, 26, 10, 21, 47), favourites_count=12, utc_offset=None, time_zone=None, geo_enabled=False, verified=False, statuses_count=10, lang=None, contributors_enabled=False, is_translator=False, is_translation_enabled=False, profile_background_color='022330', profile_background_image_url='http://abs.twimg.com/images/themes/theme15/bg.png', profile_background_image_url_https='https://abs.twimg.com/images/themes/theme15/bg.png', profile_background_tile=False, profile_image_url='http://pbs.twimg.com/profile_images/838786422412804096/Xfa1t4gL_normal.jpg', profile_image_url_https='https://pbs.twimg.com/profile_images/838786422412804096/Xfa1t4gL_normal.jpg', profile_link_color='0084B4', profile_sidebar_border_color='A8C7F7', profile_sidebar_fill_color='C0DFEC', profile_text_color='333333', profile_use_background_image=True, has_extended_profile=False, default_profile=False, default_profile_image=False, following=False, follow_request_sent=False, notifications=False, translator_type='none'), user=User(_api=<tweepy.api.API object at 0x7f22829d6750>, _json={'id': 137288204, 'id_str': '137288204', 'name': 'Nagarjuna Battula', 'screen_name': 'nagbattula8', 'location': '', 'description': '', 'url': None, 'entities': {'description': {'urls': []}}, 'protected': False, 'followers_count': 16, 'friends_count': 160, 'listed_count': 1, 'created_at': 'Mon Apr 26 10:21:47 +0000 2010', 'favourites_count': 12, 'utc_offset': None, 'time_zone': None, 'geo_enabled': False, 'verified': False, 'statuses_count': 10, 'lang': None, 'contributors_enabled': False, 'is_translator': False, 'is_translation_enabled': False, 'profile_background_color': '022330', 'profile_background_image_url': 'http://abs.twimg.com/images/themes/theme15/bg.png', 'profile_background_image_url_https': 'https://abs.twimg.com/images/themes/theme15/bg.png', 'profile_background_tile': False, 'profile_image_url': 'http://pbs.twimg.com/profile_images/838786422412804096/Xfa1t4gL_normal.jpg', 'profile_image_url_https': 'https://pbs.twimg.com/profile_images/838786422412804096/Xfa1t4gL_normal.jpg', 'profile_link_color': '0084B4', 'profile_sidebar_border_color': 'A8C7F7', 'profile_sidebar_fill_color': 'C0DFEC', 'profile_text_color': '333333', 'profile_use_background_image': True, 'has_extended_profile': False, 'default_profile': False, 'default_profile_image': False, 'following': False, 'follow_request_sent': False, 'notifications': False, 'translator_type': 'none'}, id=137288204, id_str='137288204', name='Nagarjuna Battula', screen_name='nagbattula8', location='', description='', url=None, entities={'description': {'urls': []}}, protected=False, followers_count=16, friends_count=160, listed_count=1, created_at=datetime.datetime(2010, 4, 26, 10, 21, 47), favourites_count=12, utc_offset=None, time_zone=None, geo_enabled=False, verified=False, statuses_count=10, lang=None, contributors_enabled=False, is_translator=False, is_translation_enabled=False, profile_background_color='022330', profile_background_image_url='http://abs.twimg.com/images/themes/theme15/bg.png', profile_background_image_url_https='https://abs.twimg.com/images/themes/theme15/bg.png', profile_background_tile=False, profile_image_url='http://pbs.twimg.com/profile_images/838786422412804096/Xfa1t4gL_normal.jpg', profile_image_url_https='https://pbs.twimg.com/profile_images/838786422412804096/Xfa1t4gL_normal.jpg', profile_link_color='0084B4', profile_sidebar_border_color='A8C7F7', profile_sidebar_fill_color='C0DFEC', profile_text_color='333333', profile_use_background_image=True, has_extended_profile=False, default_profile=False, default_profile_image=False, following=False, follow_request_sent=False, notifications=False, translator_type='none'), geo=None, coordinates=None, place=None, contributors=None, is_quote_status=False, retweet_count=0, favorite_count=0, favorited=False, retweeted=False, lang='en')"
            ]
          },
          "metadata": {
            "tags": []
          },
          "execution_count": 8
        }
      ]
    },
    {
      "cell_type": "code",
      "metadata": {
        "colab": {
          "base_uri": "https://localhost:8080/"
        },
        "id": "jAxFKHo7ZjG4",
        "outputId": "e70ea170-acf2-4cf3-ef19-052aa2d60e87"
      },
      "source": [
        "!pip install lxml==3.5.0"
      ],
      "execution_count": null,
      "outputs": [
        {
          "output_type": "stream",
          "text": [
            "Collecting lxml==3.5.0\n",
            "\u001b[?25l  Downloading https://files.pythonhosted.org/packages/8b/be/ed850baac891aca25c832fb8d7b9c0e7a5077a30e336d95ffc7d649aaa06/lxml-3.5.0.tar.gz (3.8MB)\n",
            "\u001b[K     |████████████████████████████████| 3.8MB 5.0MB/s \n",
            "\u001b[?25hBuilding wheels for collected packages: lxml\n",
            "  Building wheel for lxml (setup.py) ... \u001b[?25lerror\n",
            "\u001b[31m  ERROR: Failed building wheel for lxml\u001b[0m\n",
            "\u001b[?25h  Running setup.py clean for lxml\n",
            "Failed to build lxml\n",
            "Installing collected packages: lxml\n",
            "  Found existing installation: lxml 4.2.6\n",
            "    Uninstalling lxml-4.2.6:\n",
            "      Successfully uninstalled lxml-4.2.6\n",
            "    Running setup.py install for lxml ... \u001b[?25l\u001b[?25herror\n",
            "  Rolling back uninstall of lxml\n",
            "  Moving to /usr/local/lib/python3.7/dist-packages/lxml-4.2.6.dist-info/\n",
            "   from /usr/local/lib/python3.7/dist-packages/~xml-4.2.6.dist-info\n",
            "  Moving to /usr/local/lib/python3.7/dist-packages/lxml/\n",
            "   from /usr/local/lib/python3.7/dist-packages/~xml\n",
            "\u001b[31mERROR: Command errored out with exit status 1: /usr/bin/python3 -u -c 'import sys, setuptools, tokenize; sys.argv[0] = '\"'\"'/tmp/pip-install-rhmlqywh/lxml/setup.py'\"'\"'; __file__='\"'\"'/tmp/pip-install-rhmlqywh/lxml/setup.py'\"'\"';f=getattr(tokenize, '\"'\"'open'\"'\"', open)(__file__);code=f.read().replace('\"'\"'\\r\\n'\"'\"', '\"'\"'\\n'\"'\"');f.close();exec(compile(code, __file__, '\"'\"'exec'\"'\"'))' install --record /tmp/pip-record-0sgxr0qt/install-record.txt --single-version-externally-managed --compile Check the logs for full command output.\u001b[0m\n"
          ],
          "name": "stdout"
        }
      ]
    },
    {
      "cell_type": "code",
      "metadata": {
        "id": "plMsXQBnFAip"
      },
      "source": [
        "# import module\n",
        "import requests\n",
        "import pandas as pd\n",
        "from bs4 import BeautifulSoup\n",
        "  \n",
        "# link for extract html data\n",
        "def getdata(url):\n",
        "    r = requests.get(url)\n",
        "    return r.text\n",
        "\n",
        "links = Tweets[2]\n",
        "\n",
        "articleList = []\n",
        "timeList = []\n",
        "\n",
        "for i in links:\n",
        "  \n",
        "  htmldata = getdata(i)\n",
        "  soup = BeautifulSoup(htmldata, 'html.parser')\n",
        "  data = ''\n",
        "  datastring = ''\n",
        "  timestring = ''\n",
        "\n",
        "  for data in soup.find_all(\"p\"):\n",
        "    datastring+= ' ' + data.get_text()\n",
        "  \n",
        "  articleList.append(datastring)\n",
        "\n",
        "  for data in soup.find_all(\"time\"):\n",
        "    timestring+= ' ' + data.get_text()\n",
        "\n",
        "  timeList.append(timesstring)"
      ],
      "execution_count": null,
      "outputs": []
    }
  ]
}